{
  "nbformat": 4,
  "nbformat_minor": 0,
  "metadata": {
    "colab": {
      "provenance": [],
      "authorship_tag": "ABX9TyPKXA9si2WOIIUrYrMqK+wp",
      "include_colab_link": true
    },
    "kernelspec": {
      "name": "python3",
      "display_name": "Python 3"
    },
    "language_info": {
      "name": "python"
    }
  },
  "cells": [
    {
      "cell_type": "markdown",
      "metadata": {
        "id": "view-in-github",
        "colab_type": "text"
      },
      "source": [
        "<a href=\"https://colab.research.google.com/github/saranya-1501/python-files/blob/main/task_8a%2C8b%2C8c.ipynb\" target=\"_parent\"><img src=\"https://colab.research.google.com/assets/colab-badge.svg\" alt=\"Open In Colab\"/></a>"
      ]
    },
    {
      "cell_type": "code",
      "source": [
        "def fibonacci():\n",
        " a, b = 0, 1\n",
        " for _ in range(10): # Generate Fibonacci numbers using a generator function\n",
        " yield a\n",
        " a, b = b, a + b\n",
        "fibonacci_series = fibonacci() # Create a generator object for Fibonacci series\n",
        "for number in fibonacci_series: # Print the first 10 Fibonacci numbers\n",
        " print(number, end=\" \")\n",
        "\n",
        " def squares():\n",
        " for i in range(5): # Generate squares of numbers 0 through 4\n",
        " yield i ** 2\n",
        "# Create a generator object for squares of numbers 0 through 4\n",
        "squares_generator = squares()\n",
        "# Iterate over the generator object and print the squares\n",
        "for square in squares_generator:\n",
        " print(square)\n",
        "\n",
        " # Decorator function to decorate arithmetic operations\n",
        "def operation_decorator(func):\n",
        " def wrapper(x, y):\n",
        " print(\"Performing arithmetic operation...\")\n",
        " result = func(x, y)\n",
        " print(\"Operation completed.\")\n",
        " return result\n",
        " return wrapper\n",
        "# Applying decorator to arithmetic operations\n",
        "@operation_decorator\n",
        "def add(x, y):\n",
        " return x + y\n",
        "@operation_decorator\n",
        "def divide(x, y):\n",
        " if y == 0:\n",
        " return \"Cannot divide by zero!\"\n",
        " else:\n",
        " return x / y\n",
        "result_add = add(5, 3)\n",
        "print(\"Result of addition:\", result_add)\n",
        "result_divide = divide(15, 0)\n",
        "print(\"Result of division:\", result_divide)\n",
        "\n",
        "\n",
        "\n",
        "\n",
        "\n",
        "\n"
      ],
      "metadata": {
        "colab": {
          "base_uri": "https://localhost:8080/",
          "height": 106
        },
        "id": "NQYwYeJ0vQ5z",
        "outputId": "7422ae8f-3821-43fb-d5e9-eca72e14b0fd"
      },
      "execution_count": 8,
      "outputs": [
        {
          "output_type": "error",
          "ename": "IndentationError",
          "evalue": "expected an indented block after 'for' statement on line 3 (ipython-input-316808445.py, line 4)",
          "traceback": [
            "\u001b[0;36m  File \u001b[0;32m\"/tmp/ipython-input-316808445.py\"\u001b[0;36m, line \u001b[0;32m4\u001b[0m\n\u001b[0;31m    yield a\u001b[0m\n\u001b[0m    ^\u001b[0m\n\u001b[0;31mIndentationError\u001b[0m\u001b[0;31m:\u001b[0m expected an indented block after 'for' statement on line 3\n"
          ]
        }
      ]
    },
    {
      "cell_type": "code",
      "execution_count": null,
      "metadata": {
        "id": "L6BZtXkTs3ik"
      },
      "outputs": [],
      "source": []
    }
  ]
}
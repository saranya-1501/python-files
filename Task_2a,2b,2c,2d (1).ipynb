{
  "nbformat": 4,
  "nbformat_minor": 0,
  "metadata": {
    "colab": {
      "provenance": []
    },
    "kernelspec": {
      "name": "python3",
      "display_name": "Python 3"
    },
    "language_info": {
      "name": "python"
    }
  },
  "cells": [
    {
      "cell_type": "code",
      "execution_count": 1,
      "metadata": {
        "colab": {
          "base_uri": "https://localhost:8080/",
          "height": 106
        },
        "id": "veV_PpcckiUa",
        "outputId": "ecde2a18-f58e-4eb0-d44e-c06fa248b8e5"
      },
      "outputs": [
        {
          "output_type": "error",
          "ename": "IndentationError",
          "evalue": "expected an indented block after 'while' statement on line 5 (ipython-input-3685733877.py, line 7)",
          "traceback": [
            "\u001b[0;36m  File \u001b[0;32m\"/tmp/ipython-input-3685733877.py\"\u001b[0;36m, line \u001b[0;32m7\u001b[0m\n\u001b[0;31m    user_guess = int(input(\"Guess a number between 1 and 9: \"))\u001b[0m\n\u001b[0m    ^\u001b[0m\n\u001b[0;31mIndentationError\u001b[0m\u001b[0;31m:\u001b[0m expected an indented block after 'while' statement on line 5\n"
          ]
        }
      ],
      "source": [
        "import random\n",
        "def guess_number():\n",
        " # Generate a random number between 1 and 9\n",
        " target_number = random.randint(1, 9)\n",
        " while True:\n",
        " # Prompt the user to enter a guess\n",
        " user_guess = int(input(\"Guess a number between 1 and 9: \"))\n",
        "\n",
        " # Check if the guess is correct\n",
        " if user_guess == target_number:\n",
        " print(\"Well guessed!\")\n",
        " break\n",
        " else:\n",
        " print(\"Wrong guess. Try again.\")\n",
        "# Call the function\n",
        "guess_number()\n",
        "\n",
        "for number in range(1, 51):\n",
        " if number % 3 == 0 and number % 5 == 0:\n",
        " print(\"FizzBuzz\")\n",
        " elif number % 3 == 0:\n",
        " print(\"Fizz\")\n",
        " elif number % 5 == 0:\n",
        " print(\"Buzz\")\n",
        " else:\n",
        " print(number)\n",
        "\n",
        " nums = list(input(\"Enter a sequence of comma-separated 4-digit binary numbers: \").split(','))\n",
        "# example: 0101,1000,1001,1010\n",
        "res = [i for i in nums if int(i, 2) % 6==0]\n",
        "print(res)\n",
        "\n",
        "def count_even_odd(numbers):\n",
        " even_count = 0\n",
        " odd_count = 0\n",
        " for num in numbers:\n",
        " if num % 2 == 0:\n",
        " even_count += 1\n",
        " else:\n",
        " odd_count += 1\n",
        " return even_count, odd_count\n",
        "input_numbers = input(\"Enter a series of numbers separated by spaces: \")\n",
        "numbers = list(map(int, input_numbers.split()))\n",
        "even_count, odd_count = count_even_odd(numbers)\n",
        "print(\"Number of even numbers:\", even_count)\n",
        "print(\"Number of odd numbers:\", odd_count)"
      ]
    }
  ]
}
{
  "nbformat": 4,
  "nbformat_minor": 0,
  "metadata": {
    "colab": {
      "provenance": [],
      "authorship_tag": "ABX9TyNMotA0/Ew4q38ZoOHQ1BOi",
      "include_colab_link": true
    },
    "kernelspec": {
      "name": "python3",
      "display_name": "Python 3"
    },
    "language_info": {
      "name": "python"
    }
  },
  "cells": [
    {
      "cell_type": "markdown",
      "metadata": {
        "id": "view-in-github",
        "colab_type": "text"
      },
      "source": [
        "<a href=\"https://colab.research.google.com/github/saranya-1501/python-files/blob/main/task_1a%2C1b%2C1c%2C1d.ipynb\" target=\"_parent\"><img src=\"https://colab.research.google.com/assets/colab-badge.svg\" alt=\"Open In Colab\"/></a>"
      ]
    },
    {
      "cell_type": "code",
      "source": [
        "name = \"World\"\n",
        "a = 10\n",
        "b = 5\n",
        "\n",
        "sum_result = a + b\n",
        "\n",
        "# 3. Print the results\n",
        "print(f\"Hello, {name}!\")\n",
        "print(f\"The sum of {a} and {b} is: {sum_result}\")\n",
        "\n",
        "\n",
        "\n",
        "\n",
        "\n",
        "\n",
        "\n",
        "\n",
        "\n",
        "\n"
      ],
      "metadata": {
        "colab": {
          "base_uri": "https://localhost:8080/"
        },
        "id": "NQYwYeJ0vQ5z",
        "outputId": "926ae88e-a7d4-4804-9795-779856acf15b"
      },
      "execution_count": 13,
      "outputs": [
        {
          "output_type": "stream",
          "name": "stdout",
          "text": [
            "Hello, World!\n",
            "The sum of 10 and 5 is: 15\n"
          ]
        }
      ]
    },
    {
      "cell_type": "code",
      "execution_count": null,
      "metadata": {
        "id": "L6BZtXkTs3ik"
      },
      "outputs": [],
      "source": []
    }
  ]
}
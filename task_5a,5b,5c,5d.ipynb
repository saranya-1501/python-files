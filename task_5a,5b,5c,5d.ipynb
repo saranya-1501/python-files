{
  "nbformat": 4,
  "nbformat_minor": 0,
  "metadata": {
    "colab": {
      "provenance": [],
      "authorship_tag": "ABX9TyPuQgkIqGtBfaOi+Jb0UYPP",
      "include_colab_link": true
    },
    "kernelspec": {
      "name": "python3",
      "display_name": "Python 3"
    },
    "language_info": {
      "name": "python"
    }
  },
  "cells": [
    {
      "cell_type": "markdown",
      "metadata": {
        "id": "view-in-github",
        "colab_type": "text"
      },
      "source": [
        "<a href=\"https://colab.research.google.com/github/saranya-1501/python-files/blob/main/task_5a%2C5b%2C5c%2C5d.ipynb\" target=\"_parent\"><img src=\"https://colab.research.google.com/assets/colab-badge.svg\" alt=\"Open In Colab\"/></a>"
      ]
    },
    {
      "cell_type": "code",
      "source": [
        "def search(arr, x):\n",
        " for i in range(len(arr)):\n",
        " if arr[i] == x:\n",
        " return i\n",
        " return -1\n",
        "# Example usage:\n",
        "arr = [10, 20, 80, 30, 60, 50, 110, 100, 130, 170]\n",
        "x = 110\n",
        "result = search(arr, x)\n",
        "if result != -1:\n",
        " print(\"Element\", x, \"is present at index\", result)\n",
        "else:\n",
        " print(\"Element\", x, \"is not present in the array\")\n",
        "\n",
        " def search(arr, x):\n",
        " for i in range(len(arr)):\n",
        " if arr[i] == x:\n",
        " return i\n",
        " return -1\n",
        "# Example usage:\n",
        "arr = [10, 20, 80, 30, 60, 50, 110, 100, 130, 170]\n",
        "x = 110\n",
        "result = search(arr, x)\n",
        "if result != -1:\n",
        " print(\"Element\", x, \"is present at index\", result)\n",
        "else:\n",
        " print(\"Element\", x, \"is not present in the array\")\n",
        "\n",
        " def bubble_sort(arr):\n",
        " n = len(arr)\n",
        " for i in range(n):\n",
        " for j in range(0, n-i-1):\n",
        " if arr[j] > arr[j+1]:\n",
        " arr[j], arr[j+1] = arr[j+1], arr[j]\n",
        "def find_sequence(arr):\n",
        " smallest = arr[0]\n",
        " largest = arr[-1]\n",
        " print(\"Sequence of integers:\", smallest, \"to\", largest)\n",
        "# Step 1: Get the number of integers\n",
        "n = int(input(\"Enter the number of integers: \"))\n",
        "# Step 2: Receive the integers\n",
        "integers = []\n",
        "print(\"Enter the integers:\")\n",
        "for _ in range(n):\n",
        " integers.append(int(input()))\n",
        "# Step 3: Sort the integers using bubble sort\n",
        "bubble_sort(integers)\n",
        "# Step 4: Print the start and end of sequence\n",
        "find_sequence(integers)\n",
        "\n",
        "def selection_sort(scores):\n",
        " n = len(scores)\n",
        " for i in range(n):\n",
        " min_index = i\n",
        " for j in range(i+1, n):\n",
        " if scores[j] < scores[min_index]:\n",
        " min_index = j\n",
        " scores[i], scores[min_index] = scores[min_index], scores[i]\n",
        " print(\"After iteration\", i+1, \":\", scores)\n",
        "exam_scores = [87, 65, 92, 78, 55, 70, 82]\n",
        "print(\"Initial exam scores:\", exam_scores)\n",
        "print(\"Sorting using Selection Sort:\")\n",
        "selection_sort(exam_scores)\n",
        "print(\"Final sorted exam scores:\", exam_scores)\n",
        "\n",
        "\n"
      ],
      "metadata": {
        "colab": {
          "base_uri": "https://localhost:8080/",
          "height": 106
        },
        "id": "NQYwYeJ0vQ5z",
        "outputId": "c02a5873-b5f0-4c50-f4e6-d3e7ea1e9879"
      },
      "execution_count": 4,
      "outputs": [
        {
          "output_type": "error",
          "ename": "IndentationError",
          "evalue": "expected an indented block after 'for' statement on line 2 (ipython-input-2209575973.py, line 3)",
          "traceback": [
            "\u001b[0;36m  File \u001b[0;32m\"/tmp/ipython-input-2209575973.py\"\u001b[0;36m, line \u001b[0;32m3\u001b[0m\n\u001b[0;31m    if arr[i] == x:\u001b[0m\n\u001b[0m    ^\u001b[0m\n\u001b[0;31mIndentationError\u001b[0m\u001b[0;31m:\u001b[0m expected an indented block after 'for' statement on line 2\n"
          ]
        }
      ]
    },
    {
      "cell_type": "code",
      "execution_count": null,
      "metadata": {
        "id": "L6BZtXkTs3ik"
      },
      "outputs": [],
      "source": []
    }
  ]
}